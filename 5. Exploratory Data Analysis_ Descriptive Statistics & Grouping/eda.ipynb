{
 "cells": [
  {
   "cell_type": "code",
   "execution_count": 1,
   "id": "1068e771",
   "metadata": {},
   "outputs": [],
   "source": [
    "import pandas as pd\n",
    "import numpy as np\n",
    "import matplotlib.pyplot as plt\n",
    "import seaborn as sns"
   ]
  },
  {
   "cell_type": "code",
   "execution_count": 2,
   "id": "88001eeb",
   "metadata": {},
   "outputs": [],
   "source": [
    "df = pd.read_csv(\"../5. Exploratory Data Analysis_ Descriptive Statistics & Grouping/Salinan Online Retail Data.csv\", header=0)"
   ]
  },
  {
   "cell_type": "markdown",
   "id": "04f29166",
   "metadata": {},
   "source": [
    "# Data cleansing"
   ]
  },
  {
   "cell_type": "code",
   "execution_count": 3,
   "id": "cff623fa",
   "metadata": {},
   "outputs": [
    {
     "data": {
      "text/html": [
       "<div>\n",
       "<style scoped>\n",
       "    .dataframe tbody tr th:only-of-type {\n",
       "        vertical-align: middle;\n",
       "    }\n",
       "\n",
       "    .dataframe tbody tr th {\n",
       "        vertical-align: top;\n",
       "    }\n",
       "\n",
       "    .dataframe thead th {\n",
       "        text-align: right;\n",
       "    }\n",
       "</style>\n",
       "<table border=\"1\" class=\"dataframe\">\n",
       "  <thead>\n",
       "    <tr style=\"text-align: right;\">\n",
       "      <th></th>\n",
       "      <th>order_id</th>\n",
       "      <th>product_code</th>\n",
       "      <th>product_name</th>\n",
       "      <th>quantity</th>\n",
       "      <th>order_date</th>\n",
       "      <th>price</th>\n",
       "      <th>customer_id</th>\n",
       "      <th>order_status</th>\n",
       "      <th>amount</th>\n",
       "    </tr>\n",
       "  </thead>\n",
       "  <tbody>\n",
       "    <tr>\n",
       "      <th>0</th>\n",
       "      <td>C493411</td>\n",
       "      <td>21539</td>\n",
       "      <td>red retrospot butter dish</td>\n",
       "      <td>1</td>\n",
       "      <td>2010-01-04 09:43:00</td>\n",
       "      <td>4.25</td>\n",
       "      <td>14590.0</td>\n",
       "      <td>cancelled</td>\n",
       "      <td>4.25</td>\n",
       "    </tr>\n",
       "    <tr>\n",
       "      <th>1</th>\n",
       "      <td>493413</td>\n",
       "      <td>21724</td>\n",
       "      <td>panda and bunnies sticker sheet</td>\n",
       "      <td>1</td>\n",
       "      <td>2010-01-04 09:54:00</td>\n",
       "      <td>0.85</td>\n",
       "      <td>nan</td>\n",
       "      <td>delivered</td>\n",
       "      <td>0.85</td>\n",
       "    </tr>\n",
       "    <tr>\n",
       "      <th>2</th>\n",
       "      <td>493413</td>\n",
       "      <td>84578</td>\n",
       "      <td>elephant toy with blue t-shirt</td>\n",
       "      <td>1</td>\n",
       "      <td>2010-01-04 09:54:00</td>\n",
       "      <td>3.75</td>\n",
       "      <td>nan</td>\n",
       "      <td>delivered</td>\n",
       "      <td>3.75</td>\n",
       "    </tr>\n",
       "    <tr>\n",
       "      <th>3</th>\n",
       "      <td>493413</td>\n",
       "      <td>21723</td>\n",
       "      <td>alphabet hearts sticker sheet</td>\n",
       "      <td>1</td>\n",
       "      <td>2010-01-04 09:54:00</td>\n",
       "      <td>0.85</td>\n",
       "      <td>nan</td>\n",
       "      <td>delivered</td>\n",
       "      <td>0.85</td>\n",
       "    </tr>\n",
       "    <tr>\n",
       "      <th>4</th>\n",
       "      <td>493414</td>\n",
       "      <td>21844</td>\n",
       "      <td>red retrospot mug</td>\n",
       "      <td>36</td>\n",
       "      <td>2010-01-04 10:28:00</td>\n",
       "      <td>2.55</td>\n",
       "      <td>14590.0</td>\n",
       "      <td>delivered</td>\n",
       "      <td>91.80</td>\n",
       "    </tr>\n",
       "    <tr>\n",
       "      <th>...</th>\n",
       "      <td>...</td>\n",
       "      <td>...</td>\n",
       "      <td>...</td>\n",
       "      <td>...</td>\n",
       "      <td>...</td>\n",
       "      <td>...</td>\n",
       "      <td>...</td>\n",
       "      <td>...</td>\n",
       "      <td>...</td>\n",
       "    </tr>\n",
       "    <tr>\n",
       "      <th>458241</th>\n",
       "      <td>539991</td>\n",
       "      <td>21618</td>\n",
       "      <td>4 wildflower botanical candles</td>\n",
       "      <td>1</td>\n",
       "      <td>2010-12-23 16:49:00</td>\n",
       "      <td>1.25</td>\n",
       "      <td>nan</td>\n",
       "      <td>delivered</td>\n",
       "      <td>1.25</td>\n",
       "    </tr>\n",
       "    <tr>\n",
       "      <th>458242</th>\n",
       "      <td>539991</td>\n",
       "      <td>72741</td>\n",
       "      <td>grand chocolatecandle</td>\n",
       "      <td>4</td>\n",
       "      <td>2010-12-23 16:49:00</td>\n",
       "      <td>1.45</td>\n",
       "      <td>nan</td>\n",
       "      <td>delivered</td>\n",
       "      <td>5.80</td>\n",
       "    </tr>\n",
       "    <tr>\n",
       "      <th>458243</th>\n",
       "      <td>539992</td>\n",
       "      <td>21470</td>\n",
       "      <td>flower vine raffia food cover</td>\n",
       "      <td>1</td>\n",
       "      <td>2010-12-23 17:41:00</td>\n",
       "      <td>3.75</td>\n",
       "      <td>nan</td>\n",
       "      <td>delivered</td>\n",
       "      <td>3.75</td>\n",
       "    </tr>\n",
       "    <tr>\n",
       "      <th>458244</th>\n",
       "      <td>539992</td>\n",
       "      <td>22258</td>\n",
       "      <td>felt farm animal rabbit</td>\n",
       "      <td>1</td>\n",
       "      <td>2010-12-23 17:41:00</td>\n",
       "      <td>1.25</td>\n",
       "      <td>nan</td>\n",
       "      <td>delivered</td>\n",
       "      <td>1.25</td>\n",
       "    </tr>\n",
       "    <tr>\n",
       "      <th>458245</th>\n",
       "      <td>539992</td>\n",
       "      <td>21155</td>\n",
       "      <td>red spotty peg bag</td>\n",
       "      <td>1</td>\n",
       "      <td>2010-12-23 17:41:00</td>\n",
       "      <td>2.10</td>\n",
       "      <td>nan</td>\n",
       "      <td>delivered</td>\n",
       "      <td>2.10</td>\n",
       "    </tr>\n",
       "  </tbody>\n",
       "</table>\n",
       "<p>458246 rows × 9 columns</p>\n",
       "</div>"
      ],
      "text/plain": [
       "       order_id product_code                     product_name  quantity  \\\n",
       "0       C493411        21539        red retrospot butter dish         1   \n",
       "1        493413        21724  panda and bunnies sticker sheet         1   \n",
       "2        493413        84578   elephant toy with blue t-shirt         1   \n",
       "3        493413        21723    alphabet hearts sticker sheet         1   \n",
       "4        493414        21844                red retrospot mug        36   \n",
       "...         ...          ...                              ...       ...   \n",
       "458241   539991        21618   4 wildflower botanical candles         1   \n",
       "458242   539991        72741            grand chocolatecandle         4   \n",
       "458243   539992        21470    flower vine raffia food cover         1   \n",
       "458244   539992        22258          felt farm animal rabbit         1   \n",
       "458245   539992        21155               red spotty peg bag         1   \n",
       "\n",
       "                 order_date  price customer_id order_status  amount  \n",
       "0       2010-01-04 09:43:00   4.25     14590.0    cancelled    4.25  \n",
       "1       2010-01-04 09:54:00   0.85         nan    delivered    0.85  \n",
       "2       2010-01-04 09:54:00   3.75         nan    delivered    3.75  \n",
       "3       2010-01-04 09:54:00   0.85         nan    delivered    0.85  \n",
       "4       2010-01-04 10:28:00   2.55     14590.0    delivered   91.80  \n",
       "...                     ...    ...         ...          ...     ...  \n",
       "458241  2010-12-23 16:49:00   1.25         nan    delivered    1.25  \n",
       "458242  2010-12-23 16:49:00   1.45         nan    delivered    5.80  \n",
       "458243  2010-12-23 17:41:00   3.75         nan    delivered    3.75  \n",
       "458244  2010-12-23 17:41:00   1.25         nan    delivered    1.25  \n",
       "458245  2010-12-23 17:41:00   2.10         nan    delivered    2.10  \n",
       "\n",
       "[458246 rows x 9 columns]"
      ]
     },
     "execution_count": 3,
     "metadata": {},
     "output_type": "execute_result"
    }
   ],
   "source": [
    "df_clean = df.copy()\n",
    "# menghapus semua baris tanpa product_name\n",
    "df_clean = df_clean[~df_clean['product_name'].isna()]\n",
    "# membuat semua product_name berhuruf kecil\n",
    "df_clean['product_name'] = df_clean['product_name'].str.lower()\n",
    "# menghapus semua baris dengan product_code atau product_name test\n",
    "df_clean = df_clean[(~df_clean['product_code'].str.lower().str.contains('test')) |\n",
    "                    (~df_clean['product_name'].str.contains('test '))]\n",
    "# membuat kolom order_status dengan nilai 'cancelled' jika order_id diawali dengan huruf 'c' dan 'delivered' jika order_id tanpa awalan huruf 'c'\n",
    "df_clean['order_status'] = np.where(df_clean['order_id'].str[:1]=='C', 'cancelled', 'delivered')\n",
    "# mengubah nilai quantity yang negatif menjadi positif karena nilai negatif tersebut hanya menandakan order tersebut cancelled\n",
    "df_clean['quantity'] = df_clean['quantity'].abs()\n",
    "# menghapus baris dengan price bernilai negatif\n",
    "df_clean = df_clean[df_clean['price']>0]\n",
    "# membuat nilai amount, yaitu perkalian antara quantity dan price\n",
    "df_clean['amount'] = df_clean['quantity'] * df_clean['price']\n",
    "# mengganti product_name dari product_code yang memiliki beberapa product_name dengan salah satu product_name-nya yang paling sering muncul\n",
    "most_freq_product_name = df_clean.groupby(['product_code','product_name'], as_index=False).agg(order_cnt=('order_id','nunique')).sort_values(['product_code','order_cnt'], ascending=[True,False])\n",
    "most_freq_product_name['rank'] = most_freq_product_name.groupby('product_code')['order_cnt'].rank(method='first', ascending=False)\n",
    "most_freq_product_name = most_freq_product_name[most_freq_product_name['rank']==1].drop(columns=['order_cnt','rank'])\n",
    "df_clean = df_clean.merge(most_freq_product_name.rename(columns={'product_name':'most_freq_product_name'}), how='left', on='product_code')\n",
    "df_clean['product_name'] = df_clean['most_freq_product_name']\n",
    "df_clean = df_clean.drop(columns='most_freq_product_name')\n",
    "# mengkonversi customer_id menjadi string\n",
    "df_clean['customer_id'] = df_clean['customer_id'].astype(str)\n",
    "df_clean = df_clean.reset_index(drop=True)\n",
    "df_clean"
   ]
  },
  {
   "cell_type": "markdown",
   "id": "d19c214e",
   "metadata": {},
   "source": [
    "# Hal yang sering dilakukan dalam EDA"
   ]
  },
  {
   "cell_type": "markdown",
   "id": "948447fc",
   "metadata": {},
   "source": [
    "## Mengetahui banyak baris/record dan kolom/variabel/feature"
   ]
  },
  {
   "cell_type": "code",
   "execution_count": 4,
   "id": "be8515f8",
   "metadata": {},
   "outputs": [
    {
     "data": {
      "text/plain": [
       "(458246, 9)"
      ]
     },
     "execution_count": 4,
     "metadata": {},
     "output_type": "execute_result"
    }
   ],
   "source": [
    "df_clean.shape"
   ]
  },
  {
   "cell_type": "code",
   "execution_count": 5,
   "id": "49befd02",
   "metadata": {},
   "outputs": [
    {
     "name": "stdout",
     "output_type": "stream",
     "text": [
      "<class 'pandas.core.frame.DataFrame'>\n",
      "RangeIndex: 458246 entries, 0 to 458245\n",
      "Data columns (total 9 columns):\n",
      " #   Column        Non-Null Count   Dtype  \n",
      "---  ------        --------------   -----  \n",
      " 0   order_id      458246 non-null  object \n",
      " 1   product_code  458246 non-null  object \n",
      " 2   product_name  458246 non-null  object \n",
      " 3   quantity      458246 non-null  int64  \n",
      " 4   order_date    458246 non-null  object \n",
      " 5   price         458246 non-null  float64\n",
      " 6   customer_id   458246 non-null  object \n",
      " 7   order_status  458246 non-null  object \n",
      " 8   amount        458246 non-null  float64\n",
      "dtypes: float64(2), int64(1), object(6)\n",
      "memory usage: 31.5+ MB\n"
     ]
    }
   ],
   "source": [
    "df_clean.info()"
   ]
  },
  {
   "cell_type": "code",
   "execution_count": 6,
   "id": "d123debb",
   "metadata": {},
   "outputs": [
    {
     "data": {
      "text/plain": [
       "array(['cancelled', 'delivered'], dtype=object)"
      ]
     },
     "execution_count": 6,
     "metadata": {},
     "output_type": "execute_result"
    }
   ],
   "source": [
    "df_clean[\"order_status\"].unique()"
   ]
  },
  {
   "cell_type": "code",
   "execution_count": 7,
   "id": "a0af70a5",
   "metadata": {},
   "outputs": [
    {
     "data": {
      "text/plain": [
       "order_status\n",
       "delivered    449996\n",
       "cancelled      8250\n",
       "Name: count, dtype: int64"
      ]
     },
     "execution_count": 7,
     "metadata": {},
     "output_type": "execute_result"
    }
   ],
   "source": [
    "df_clean[\"order_status\"].value_counts()"
   ]
  },
  {
   "cell_type": "markdown",
   "id": "6d99d416",
   "metadata": {},
   "source": [
    "distribusi untuk order status ternyata unbalance"
   ]
  },
  {
   "cell_type": "code",
   "execution_count": 8,
   "id": "6dcd69dd",
   "metadata": {},
   "outputs": [
    {
     "data": {
      "text/html": [
       "<div>\n",
       "<style scoped>\n",
       "    .dataframe tbody tr th:only-of-type {\n",
       "        vertical-align: middle;\n",
       "    }\n",
       "\n",
       "    .dataframe tbody tr th {\n",
       "        vertical-align: top;\n",
       "    }\n",
       "\n",
       "    .dataframe thead th {\n",
       "        text-align: right;\n",
       "    }\n",
       "</style>\n",
       "<table border=\"1\" class=\"dataframe\">\n",
       "  <thead>\n",
       "    <tr style=\"text-align: right;\">\n",
       "      <th></th>\n",
       "      <th>quantity</th>\n",
       "      <th>price</th>\n",
       "      <th>amount</th>\n",
       "    </tr>\n",
       "  </thead>\n",
       "  <tbody>\n",
       "    <tr>\n",
       "      <th>count</th>\n",
       "      <td>458246.000000</td>\n",
       "      <td>458246.000000</td>\n",
       "      <td>458246.000000</td>\n",
       "    </tr>\n",
       "    <tr>\n",
       "      <th>mean</th>\n",
       "      <td>10.004764</td>\n",
       "      <td>4.903037</td>\n",
       "      <td>19.512293</td>\n",
       "    </tr>\n",
       "    <tr>\n",
       "      <th>std</th>\n",
       "      <td>61.180755</td>\n",
       "      <td>99.536887</td>\n",
       "      <td>118.566258</td>\n",
       "    </tr>\n",
       "    <tr>\n",
       "      <th>min</th>\n",
       "      <td>1.000000</td>\n",
       "      <td>0.001000</td>\n",
       "      <td>0.001000</td>\n",
       "    </tr>\n",
       "    <tr>\n",
       "      <th>25%</th>\n",
       "      <td>1.000000</td>\n",
       "      <td>1.250000</td>\n",
       "      <td>3.750000</td>\n",
       "    </tr>\n",
       "    <tr>\n",
       "      <th>50%</th>\n",
       "      <td>3.000000</td>\n",
       "      <td>2.100000</td>\n",
       "      <td>9.300000</td>\n",
       "    </tr>\n",
       "    <tr>\n",
       "      <th>75%</th>\n",
       "      <td>10.000000</td>\n",
       "      <td>4.210000</td>\n",
       "      <td>17.000000</td>\n",
       "    </tr>\n",
       "    <tr>\n",
       "      <th>max</th>\n",
       "      <td>10000.000000</td>\n",
       "      <td>25111.090000</td>\n",
       "      <td>25111.090000</td>\n",
       "    </tr>\n",
       "  </tbody>\n",
       "</table>\n",
       "</div>"
      ],
      "text/plain": [
       "            quantity          price         amount\n",
       "count  458246.000000  458246.000000  458246.000000\n",
       "mean       10.004764       4.903037      19.512293\n",
       "std        61.180755      99.536887     118.566258\n",
       "min         1.000000       0.001000       0.001000\n",
       "25%         1.000000       1.250000       3.750000\n",
       "50%         3.000000       2.100000       9.300000\n",
       "75%        10.000000       4.210000      17.000000\n",
       "max     10000.000000   25111.090000   25111.090000"
      ]
     },
     "execution_count": 8,
     "metadata": {},
     "output_type": "execute_result"
    }
   ],
   "source": [
    "df_clean.describe()"
   ]
  },
  {
   "cell_type": "code",
   "execution_count": 9,
   "id": "77c46be1",
   "metadata": {},
   "outputs": [
    {
     "data": {
      "text/plain": [
       "458246"
      ]
     },
     "execution_count": 9,
     "metadata": {},
     "output_type": "execute_result"
    }
   ],
   "source": [
    "df_clean[\"order_id\"].count()"
   ]
  },
  {
   "cell_type": "code",
   "execution_count": 10,
   "id": "74d34371",
   "metadata": {},
   "outputs": [
    {
     "data": {
      "text/plain": [
       "22244"
      ]
     },
     "execution_count": 10,
     "metadata": {},
     "output_type": "execute_result"
    }
   ],
   "source": [
    "df_clean[\"order_id\"].nunique()"
   ]
  },
  {
   "cell_type": "code",
   "execution_count": 11,
   "id": "c608d943",
   "metadata": {},
   "outputs": [
    {
     "data": {
      "text/plain": [
       "4584643"
      ]
     },
     "execution_count": 11,
     "metadata": {},
     "output_type": "execute_result"
    }
   ],
   "source": [
    "df_clean[\"quantity\"].sum()"
   ]
  },
  {
   "cell_type": "code",
   "execution_count": 12,
   "id": "1c3db8ce",
   "metadata": {},
   "outputs": [
    {
     "data": {
      "text/plain": [
       "166722"
      ]
     },
     "execution_count": 12,
     "metadata": {},
     "output_type": "execute_result"
    }
   ],
   "source": [
    "df_clean.loc[df_clean[\"product_name\"].str.contains(\"tea\"), \"quantity\"].sum()"
   ]
  },
  {
   "cell_type": "code",
   "execution_count": 13,
   "id": "726a2293",
   "metadata": {},
   "outputs": [
    {
     "data": {
      "text/plain": [
       "10.004763816814549"
      ]
     },
     "execution_count": 13,
     "metadata": {},
     "output_type": "execute_result"
    }
   ],
   "source": [
    "# rata-rata (mean)\n",
    "df_clean['quantity'].mean()"
   ]
  },
  {
   "cell_type": "code",
   "execution_count": 14,
   "id": "5e072612",
   "metadata": {},
   "outputs": [
    {
     "data": {
      "text/plain": [
       "9.657205746061168"
      ]
     },
     "execution_count": 14,
     "metadata": {},
     "output_type": "execute_result"
    }
   ],
   "source": [
    "# rata-rata (mean) subset dari data\n",
    "df_clean.loc[df_clean['product_name'].str.contains('tea'), 'quantity'].mean()"
   ]
  },
  {
   "cell_type": "code",
   "execution_count": 15,
   "id": "edb3419a",
   "metadata": {},
   "outputs": [
    {
     "data": {
      "text/plain": [
       "3.0"
      ]
     },
     "execution_count": 15,
     "metadata": {},
     "output_type": "execute_result"
    }
   ],
   "source": [
    "# median\n",
    "df_clean['quantity'].median()"
   ]
  },
  {
   "cell_type": "code",
   "execution_count": 16,
   "id": "7679ac35",
   "metadata": {},
   "outputs": [
    {
     "data": {
      "text/plain": [
       "3.0"
      ]
     },
     "execution_count": 16,
     "metadata": {},
     "output_type": "execute_result"
    }
   ],
   "source": [
    "# median subset dari data\n",
    "df_clean.loc[df_clean['product_name'].str.contains('tea'), 'quantity'].median()"
   ]
  },
  {
   "cell_type": "code",
   "execution_count": 17,
   "id": "25bf7e65",
   "metadata": {},
   "outputs": [
    {
     "data": {
      "text/plain": [
       "1"
      ]
     },
     "execution_count": 17,
     "metadata": {},
     "output_type": "execute_result"
    }
   ],
   "source": [
    "# modus (mode)\n",
    "df_clean['quantity'].mode()[0]"
   ]
  },
  {
   "cell_type": "code",
   "execution_count": 18,
   "id": "b30ec7fb",
   "metadata": {},
   "outputs": [
    {
     "data": {
      "text/plain": [
       "1"
      ]
     },
     "execution_count": 18,
     "metadata": {},
     "output_type": "execute_result"
    }
   ],
   "source": [
    "# modus (mode) subset dari data\n",
    "df_clean.loc[df_clean['product_name'].str.contains('tea'), 'quantity'].mode()[0]"
   ]
  },
  {
   "cell_type": "code",
   "execution_count": 19,
   "id": "c216acc2",
   "metadata": {},
   "outputs": [
    {
     "data": {
      "text/plain": [
       "9999"
      ]
     },
     "execution_count": 19,
     "metadata": {},
     "output_type": "execute_result"
    }
   ],
   "source": [
    "# jangkauan (range)\n",
    "df_clean['quantity'].max() - df_clean['quantity'].min()"
   ]
  },
  {
   "cell_type": "code",
   "execution_count": 20,
   "id": "0a9cf234",
   "metadata": {},
   "outputs": [
    {
     "data": {
      "text/plain": [
       "4607"
      ]
     },
     "execution_count": 20,
     "metadata": {},
     "output_type": "execute_result"
    }
   ],
   "source": [
    "# jangkauan (range) subset dari data\n",
    "df_clean.loc[df_clean['product_name'].str.contains('tea'), 'quantity'].max() - df_clean.loc[df_clean['product_name'].str.contains('tea'), 'quantity'].min()"
   ]
  },
  {
   "cell_type": "code",
   "execution_count": 21,
   "id": "222a6940",
   "metadata": {},
   "outputs": [
    {
     "data": {
      "text/plain": [
       "61.18075511600227"
      ]
     },
     "execution_count": 21,
     "metadata": {},
     "output_type": "execute_result"
    }
   ],
   "source": [
    "# simpangan baku (standard deviation)\n",
    "df_clean['quantity'].std()"
   ]
  },
  {
   "cell_type": "code",
   "execution_count": 22,
   "id": "e6a2a5c0",
   "metadata": {},
   "outputs": [
    {
     "data": {
      "text/plain": [
       "44.8225496763168"
      ]
     },
     "execution_count": 22,
     "metadata": {},
     "output_type": "execute_result"
    }
   ],
   "source": [
    "# simpangan baku (standard deviation) subset dari data\n",
    "df_clean.loc[df_clean['product_name'].str.contains('tea'), 'quantity'].std()"
   ]
  },
  {
   "cell_type": "code",
   "execution_count": 23,
   "id": "688c35c4",
   "metadata": {},
   "outputs": [
    {
     "data": {
      "text/plain": [
       "3743.084796564238"
      ]
     },
     "execution_count": 23,
     "metadata": {},
     "output_type": "execute_result"
    }
   ],
   "source": [
    "# varians (variance)\n",
    "df_clean['quantity'].var()"
   ]
  },
  {
   "cell_type": "code",
   "execution_count": 24,
   "id": "a4f6b51f",
   "metadata": {},
   "outputs": [
    {
     "data": {
      "text/plain": [
       "3743.0847965642374"
      ]
     },
     "execution_count": 24,
     "metadata": {},
     "output_type": "execute_result"
    }
   ],
   "source": [
    "df_clean['quantity'].std()**2"
   ]
  },
  {
   "cell_type": "code",
   "execution_count": 25,
   "id": "c398aa91",
   "metadata": {},
   "outputs": [
    {
     "data": {
      "text/plain": [
       "2009.0609594858872"
      ]
     },
     "execution_count": 25,
     "metadata": {},
     "output_type": "execute_result"
    }
   ],
   "source": [
    "# varians (variance) subset dari data\n",
    "df_clean.loc[df_clean['product_name'].str.contains('tea'), 'quantity'].var()"
   ]
  },
  {
   "cell_type": "code",
   "execution_count": 26,
   "id": "a02ae561",
   "metadata": {},
   "outputs": [
    {
     "data": {
      "text/plain": [
       "1.0"
      ]
     },
     "execution_count": 26,
     "metadata": {},
     "output_type": "execute_result"
    }
   ],
   "source": [
    "# kuartil bawah (lower quartile)\n",
    "df_clean['quantity'].quantile(.25)"
   ]
  },
  {
   "cell_type": "code",
   "execution_count": 27,
   "id": "5f302c3f",
   "metadata": {},
   "outputs": [
    {
     "data": {
      "text/plain": [
       "1.0"
      ]
     },
     "execution_count": 27,
     "metadata": {},
     "output_type": "execute_result"
    }
   ],
   "source": [
    "# kuartil bawah (lower quartile) subset dari data\n",
    "df_clean.loc[df_clean['product_name'].str.contains('tea'), 'quantity'].quantile(.25)"
   ]
  },
  {
   "cell_type": "code",
   "execution_count": 28,
   "id": "b65aa700",
   "metadata": {},
   "outputs": [
    {
     "data": {
      "text/plain": [
       "10.0"
      ]
     },
     "execution_count": 28,
     "metadata": {},
     "output_type": "execute_result"
    }
   ],
   "source": [
    "# kuartil atas (upper quartile)\n",
    "df_clean['quantity'].quantile(.75)"
   ]
  },
  {
   "cell_type": "code",
   "execution_count": 29,
   "id": "1202416b",
   "metadata": {},
   "outputs": [
    {
     "data": {
      "text/plain": [
       "8.0"
      ]
     },
     "execution_count": 29,
     "metadata": {},
     "output_type": "execute_result"
    }
   ],
   "source": [
    "# kuartil atas (upper quartile) subset dari data\n",
    "df_clean.loc[df_clean['product_name'].str.contains('tea'), 'quantity'].quantile(.75)"
   ]
  },
  {
   "cell_type": "code",
   "execution_count": 30,
   "id": "bcdf1a17",
   "metadata": {},
   "outputs": [
    {
     "data": {
      "text/plain": [
       "9.0"
      ]
     },
     "execution_count": 30,
     "metadata": {},
     "output_type": "execute_result"
    }
   ],
   "source": [
    "# jangkauan interkuartil (interquartile range)\n",
    "df_clean['quantity'].quantile(.75) - df_clean['quantity'].quantile(.25)"
   ]
  },
  {
   "cell_type": "code",
   "execution_count": 31,
   "id": "7bd79b6a",
   "metadata": {},
   "outputs": [
    {
     "data": {
      "text/plain": [
       "7.0"
      ]
     },
     "execution_count": 31,
     "metadata": {},
     "output_type": "execute_result"
    }
   ],
   "source": [
    "# jangkauan interkuartil (interquartile range) subset dari data\n",
    "df_clean.loc[df_clean['product_name'].str.contains('tea'), 'quantity'].quantile(.75) - df_clean.loc[df_clean['product_name'].str.contains('tea'), 'quantity'].quantile(.25)"
   ]
  },
  {
   "cell_type": "code",
   "execution_count": 32,
   "id": "4ccc6341",
   "metadata": {},
   "outputs": [],
   "source": [
    "def iqr(x):\n",
    "    q1 = x.quantile(.25)\n",
    "    q3 = x.quantile(.75)\n",
    "    return q3-q1"
   ]
  },
  {
   "cell_type": "code",
   "execution_count": 33,
   "id": "3cd069cf",
   "metadata": {},
   "outputs": [
    {
     "data": {
      "text/plain": [
       "7.0"
      ]
     },
     "execution_count": 33,
     "metadata": {},
     "output_type": "execute_result"
    }
   ],
   "source": [
    "iqr(df_clean.loc[df_clean['product_name'].str.contains('tea'), 'quantity'])"
   ]
  },
  {
   "cell_type": "markdown",
   "id": "dc962212",
   "metadata": {},
   "source": [
    "# Menghitung descriptive statistics dengan grouping"
   ]
  },
  {
   "cell_type": "markdown",
   "id": "c003fa9c",
   "metadata": {},
   "source": [
    "## Agregat dari 1 kolom saja"
   ]
  },
  {
   "cell_type": "code",
   "execution_count": 34,
   "id": "372d1440",
   "metadata": {},
   "outputs": [
    {
     "data": {
      "text/plain": [
       "product_name\n",
       "60 teatime fairy cake cases           27584\n",
       "antique silver tea glass etched       17190\n",
       "moroccan tea glass                     7218\n",
       "antique silver tea glass engraved      6941\n",
       "potting shed tea mug                   6222\n",
       "                                      ...  \n",
       "english rose tea set in gift box          5\n",
       "light topaz teal/aqua col necklace        4\n",
       "ceramic cake teapot with cherry           3\n",
       "dotcomgiftshop tea towel                  2\n",
       "teatime round cake tins                   1\n",
       "Name: quantity, Length: 87, dtype: int64"
      ]
     },
     "execution_count": 34,
     "metadata": {},
     "output_type": "execute_result"
    }
   ],
   "source": [
    "# dengan 1 kolom sebagai grouping\n",
    "df_clean.loc[df_clean['product_name'].str.contains('tea')].groupby('product_name')['quantity'].sum().sort_values(ascending=False)"
   ]
  },
  {
   "cell_type": "code",
   "execution_count": 35,
   "id": "72d65b32",
   "metadata": {},
   "outputs": [
    {
     "data": {
      "text/html": [
       "<div>\n",
       "<style scoped>\n",
       "    .dataframe tbody tr th:only-of-type {\n",
       "        vertical-align: middle;\n",
       "    }\n",
       "\n",
       "    .dataframe tbody tr th {\n",
       "        vertical-align: top;\n",
       "    }\n",
       "\n",
       "    .dataframe thead th {\n",
       "        text-align: right;\n",
       "    }\n",
       "</style>\n",
       "<table border=\"1\" class=\"dataframe\">\n",
       "  <thead>\n",
       "    <tr style=\"text-align: right;\">\n",
       "      <th></th>\n",
       "      <th>product_name</th>\n",
       "      <th>quantity</th>\n",
       "    </tr>\n",
       "  </thead>\n",
       "  <tbody>\n",
       "    <tr>\n",
       "      <th>0</th>\n",
       "      <td>60 teatime fairy cake cases</td>\n",
       "      <td>27584</td>\n",
       "    </tr>\n",
       "    <tr>\n",
       "      <th>2</th>\n",
       "      <td>antique silver tea glass etched</td>\n",
       "      <td>17190</td>\n",
       "    </tr>\n",
       "    <tr>\n",
       "      <th>30</th>\n",
       "      <td>moroccan tea glass</td>\n",
       "      <td>7218</td>\n",
       "    </tr>\n",
       "    <tr>\n",
       "      <th>1</th>\n",
       "      <td>antique silver tea glass engraved</td>\n",
       "      <td>6941</td>\n",
       "    </tr>\n",
       "    <tr>\n",
       "      <th>35</th>\n",
       "      <td>potting shed tea mug</td>\n",
       "      <td>6222</td>\n",
       "    </tr>\n",
       "    <tr>\n",
       "      <th>...</th>\n",
       "      <td>...</td>\n",
       "      <td>...</td>\n",
       "    </tr>\n",
       "    <tr>\n",
       "      <th>17</th>\n",
       "      <td>english rose tea set in gift box</td>\n",
       "      <td>5</td>\n",
       "    </tr>\n",
       "    <tr>\n",
       "      <th>27</th>\n",
       "      <td>light topaz teal/aqua col necklace</td>\n",
       "      <td>4</td>\n",
       "    </tr>\n",
       "    <tr>\n",
       "      <th>10</th>\n",
       "      <td>ceramic cake teapot with cherry</td>\n",
       "      <td>3</td>\n",
       "    </tr>\n",
       "    <tr>\n",
       "      <th>13</th>\n",
       "      <td>dotcomgiftshop tea towel</td>\n",
       "      <td>2</td>\n",
       "    </tr>\n",
       "    <tr>\n",
       "      <th>81</th>\n",
       "      <td>teatime round cake tins</td>\n",
       "      <td>1</td>\n",
       "    </tr>\n",
       "  </tbody>\n",
       "</table>\n",
       "<p>87 rows × 2 columns</p>\n",
       "</div>"
      ],
      "text/plain": [
       "                          product_name  quantity\n",
       "0          60 teatime fairy cake cases     27584\n",
       "2      antique silver tea glass etched     17190\n",
       "30                  moroccan tea glass      7218\n",
       "1    antique silver tea glass engraved      6941\n",
       "35                potting shed tea mug      6222\n",
       "..                                 ...       ...\n",
       "17    english rose tea set in gift box         5\n",
       "27  light topaz teal/aqua col necklace         4\n",
       "10     ceramic cake teapot with cherry         3\n",
       "13            dotcomgiftshop tea towel         2\n",
       "81             teatime round cake tins         1\n",
       "\n",
       "[87 rows x 2 columns]"
      ]
     },
     "execution_count": 35,
     "metadata": {},
     "output_type": "execute_result"
    }
   ],
   "source": [
    "df_clean.loc[df_clean['product_name'].str.contains('tea')].groupby('product_name', as_index=False)['quantity'].sum().sort_values('quantity', ascending=False)"
   ]
  },
  {
   "cell_type": "code",
   "execution_count": 36,
   "id": "025bce86",
   "metadata": {},
   "outputs": [
    {
     "data": {
      "text/plain": [
       "product_name                       order_status\n",
       "60 teatime fairy cake cases        delivered       27432\n",
       "antique silver tea glass etched    delivered       17083\n",
       "moroccan tea glass                 delivered        7129\n",
       "antique silver tea glass engraved  delivered        6935\n",
       "potting shed tea mug               delivered        6113\n",
       "                                                   ...  \n",
       "tea time mug in gift box           cancelled           1\n",
       "tea time breakfast basket          cancelled           1\n",
       "metal sign empire tea              cancelled           1\n",
       "white tea,coffee,sugar jars        cancelled           1\n",
       "set 2 tea towels i love london     cancelled           1\n",
       "Name: quantity, Length: 139, dtype: int64"
      ]
     },
     "execution_count": 36,
     "metadata": {},
     "output_type": "execute_result"
    }
   ],
   "source": [
    "# agregat dengan lebih dari 1 kolom sebagai grouping\n",
    "df_clean.loc[df_clean['product_name'].str.contains('tea')].groupby(['product_name','order_status'])['quantity'].sum().sort_values(ascending=False)"
   ]
  },
  {
   "cell_type": "markdown",
   "id": "d3e68dce",
   "metadata": {},
   "source": [
    "## Agregat dari beberapa kolom"
   ]
  },
  {
   "cell_type": "code",
   "execution_count": 37,
   "id": "d378e431",
   "metadata": {},
   "outputs": [
    {
     "data": {
      "text/html": [
       "<div>\n",
       "<style scoped>\n",
       "    .dataframe tbody tr th:only-of-type {\n",
       "        vertical-align: middle;\n",
       "    }\n",
       "\n",
       "    .dataframe tbody tr th {\n",
       "        vertical-align: top;\n",
       "    }\n",
       "\n",
       "    .dataframe thead th {\n",
       "        text-align: right;\n",
       "    }\n",
       "</style>\n",
       "<table border=\"1\" class=\"dataframe\">\n",
       "  <thead>\n",
       "    <tr style=\"text-align: right;\">\n",
       "      <th></th>\n",
       "      <th>product_name</th>\n",
       "      <th>total_quantity</th>\n",
       "      <th>total_amount</th>\n",
       "    </tr>\n",
       "  </thead>\n",
       "  <tbody>\n",
       "    <tr>\n",
       "      <th>0</th>\n",
       "      <td>60 teatime fairy cake cases</td>\n",
       "      <td>27584</td>\n",
       "      <td>13885.20</td>\n",
       "    </tr>\n",
       "    <tr>\n",
       "      <th>2</th>\n",
       "      <td>antique silver tea glass etched</td>\n",
       "      <td>17190</td>\n",
       "      <td>23522.85</td>\n",
       "    </tr>\n",
       "    <tr>\n",
       "      <th>30</th>\n",
       "      <td>moroccan tea glass</td>\n",
       "      <td>7218</td>\n",
       "      <td>5744.56</td>\n",
       "    </tr>\n",
       "    <tr>\n",
       "      <th>1</th>\n",
       "      <td>antique silver tea glass engraved</td>\n",
       "      <td>6941</td>\n",
       "      <td>8272.97</td>\n",
       "    </tr>\n",
       "    <tr>\n",
       "      <th>35</th>\n",
       "      <td>potting shed tea mug</td>\n",
       "      <td>6222</td>\n",
       "      <td>7456.26</td>\n",
       "    </tr>\n",
       "    <tr>\n",
       "      <th>...</th>\n",
       "      <td>...</td>\n",
       "      <td>...</td>\n",
       "      <td>...</td>\n",
       "    </tr>\n",
       "    <tr>\n",
       "      <th>17</th>\n",
       "      <td>english rose tea set in gift box</td>\n",
       "      <td>5</td>\n",
       "      <td>23.25</td>\n",
       "    </tr>\n",
       "    <tr>\n",
       "      <th>27</th>\n",
       "      <td>light topaz teal/aqua col necklace</td>\n",
       "      <td>4</td>\n",
       "      <td>20.36</td>\n",
       "    </tr>\n",
       "    <tr>\n",
       "      <th>10</th>\n",
       "      <td>ceramic cake teapot with cherry</td>\n",
       "      <td>3</td>\n",
       "      <td>13.45</td>\n",
       "    </tr>\n",
       "    <tr>\n",
       "      <th>13</th>\n",
       "      <td>dotcomgiftshop tea towel</td>\n",
       "      <td>2</td>\n",
       "      <td>6.72</td>\n",
       "    </tr>\n",
       "    <tr>\n",
       "      <th>81</th>\n",
       "      <td>teatime round cake tins</td>\n",
       "      <td>1</td>\n",
       "      <td>9.95</td>\n",
       "    </tr>\n",
       "  </tbody>\n",
       "</table>\n",
       "<p>87 rows × 3 columns</p>\n",
       "</div>"
      ],
      "text/plain": [
       "                          product_name  total_quantity  total_amount\n",
       "0          60 teatime fairy cake cases           27584      13885.20\n",
       "2      antique silver tea glass etched           17190      23522.85\n",
       "30                  moroccan tea glass            7218       5744.56\n",
       "1    antique silver tea glass engraved            6941       8272.97\n",
       "35                potting shed tea mug            6222       7456.26\n",
       "..                                 ...             ...           ...\n",
       "17    english rose tea set in gift box               5         23.25\n",
       "27  light topaz teal/aqua col necklace               4         20.36\n",
       "10     ceramic cake teapot with cherry               3         13.45\n",
       "13            dotcomgiftshop tea towel               2          6.72\n",
       "81             teatime round cake tins               1          9.95\n",
       "\n",
       "[87 rows x 3 columns]"
      ]
     },
     "execution_count": 37,
     "metadata": {},
     "output_type": "execute_result"
    }
   ],
   "source": [
    "# dengan 1 kolom sebagai grouping\n",
    "df_clean.loc[df_clean['product_name'].str.contains('tea')].groupby('product_name', as_index=False).agg(total_quantity=('quantity','sum'),total_amount=('amount','sum')).sort_values('total_quantity', ascending=False)"
   ]
  },
  {
   "cell_type": "code",
   "execution_count": 38,
   "id": "abdc6742",
   "metadata": {},
   "outputs": [
    {
     "data": {
      "text/html": [
       "<div>\n",
       "<style scoped>\n",
       "    .dataframe tbody tr th:only-of-type {\n",
       "        vertical-align: middle;\n",
       "    }\n",
       "\n",
       "    .dataframe tbody tr th {\n",
       "        vertical-align: top;\n",
       "    }\n",
       "\n",
       "    .dataframe thead th {\n",
       "        text-align: right;\n",
       "    }\n",
       "</style>\n",
       "<table border=\"1\" class=\"dataframe\">\n",
       "  <thead>\n",
       "    <tr style=\"text-align: right;\">\n",
       "      <th></th>\n",
       "      <th>product_name</th>\n",
       "      <th>order_status</th>\n",
       "      <th>total_quantity</th>\n",
       "      <th>total_amount</th>\n",
       "    </tr>\n",
       "  </thead>\n",
       "  <tbody>\n",
       "    <tr>\n",
       "      <th>1</th>\n",
       "      <td>60 teatime fairy cake cases</td>\n",
       "      <td>delivered</td>\n",
       "      <td>27432</td>\n",
       "      <td>13806.15</td>\n",
       "    </tr>\n",
       "    <tr>\n",
       "      <th>5</th>\n",
       "      <td>antique silver tea glass etched</td>\n",
       "      <td>delivered</td>\n",
       "      <td>17083</td>\n",
       "      <td>23402.78</td>\n",
       "    </tr>\n",
       "    <tr>\n",
       "      <th>47</th>\n",
       "      <td>moroccan tea glass</td>\n",
       "      <td>delivered</td>\n",
       "      <td>7129</td>\n",
       "      <td>5669.51</td>\n",
       "    </tr>\n",
       "    <tr>\n",
       "      <th>3</th>\n",
       "      <td>antique silver tea glass engraved</td>\n",
       "      <td>delivered</td>\n",
       "      <td>6935</td>\n",
       "      <td>8265.47</td>\n",
       "    </tr>\n",
       "    <tr>\n",
       "      <th>55</th>\n",
       "      <td>potting shed tea mug</td>\n",
       "      <td>delivered</td>\n",
       "      <td>6113</td>\n",
       "      <td>7321.53</td>\n",
       "    </tr>\n",
       "    <tr>\n",
       "      <th>...</th>\n",
       "      <td>...</td>\n",
       "      <td>...</td>\n",
       "      <td>...</td>\n",
       "      <td>...</td>\n",
       "    </tr>\n",
       "    <tr>\n",
       "      <th>105</th>\n",
       "      <td>tea time mug in gift box</td>\n",
       "      <td>cancelled</td>\n",
       "      <td>1</td>\n",
       "      <td>2.95</td>\n",
       "    </tr>\n",
       "    <tr>\n",
       "      <th>97</th>\n",
       "      <td>tea time breakfast basket</td>\n",
       "      <td>cancelled</td>\n",
       "      <td>1</td>\n",
       "      <td>2.10</td>\n",
       "    </tr>\n",
       "    <tr>\n",
       "      <th>44</th>\n",
       "      <td>metal sign empire tea</td>\n",
       "      <td>cancelled</td>\n",
       "      <td>1</td>\n",
       "      <td>2.95</td>\n",
       "    </tr>\n",
       "    <tr>\n",
       "      <th>137</th>\n",
       "      <td>white tea,coffee,sugar jars</td>\n",
       "      <td>cancelled</td>\n",
       "      <td>1</td>\n",
       "      <td>6.35</td>\n",
       "    </tr>\n",
       "    <tr>\n",
       "      <th>68</th>\n",
       "      <td>set 2 tea towels i love london</td>\n",
       "      <td>cancelled</td>\n",
       "      <td>1</td>\n",
       "      <td>2.95</td>\n",
       "    </tr>\n",
       "  </tbody>\n",
       "</table>\n",
       "<p>139 rows × 4 columns</p>\n",
       "</div>"
      ],
      "text/plain": [
       "                          product_name order_status  total_quantity  \\\n",
       "1          60 teatime fairy cake cases    delivered           27432   \n",
       "5      antique silver tea glass etched    delivered           17083   \n",
       "47                  moroccan tea glass    delivered            7129   \n",
       "3    antique silver tea glass engraved    delivered            6935   \n",
       "55                potting shed tea mug    delivered            6113   \n",
       "..                                 ...          ...             ...   \n",
       "105           tea time mug in gift box    cancelled               1   \n",
       "97           tea time breakfast basket    cancelled               1   \n",
       "44               metal sign empire tea    cancelled               1   \n",
       "137        white tea,coffee,sugar jars    cancelled               1   \n",
       "68      set 2 tea towels i love london    cancelled               1   \n",
       "\n",
       "     total_amount  \n",
       "1        13806.15  \n",
       "5        23402.78  \n",
       "47        5669.51  \n",
       "3         8265.47  \n",
       "55        7321.53  \n",
       "..            ...  \n",
       "105          2.95  \n",
       "97           2.10  \n",
       "44           2.95  \n",
       "137          6.35  \n",
       "68           2.95  \n",
       "\n",
       "[139 rows x 4 columns]"
      ]
     },
     "execution_count": 38,
     "metadata": {},
     "output_type": "execute_result"
    }
   ],
   "source": [
    "# dengan lebih dari 1 kolom sebagai grouping\n",
    "df_clean.loc[df_clean['product_name'].str.contains('tea')].groupby(['product_name','order_status'], as_index=False).agg(total_quantity=('quantity','sum'),total_amount=('amount','sum')).sort_values('total_quantity', ascending=False)"
   ]
  }
 ],
 "metadata": {
  "kernelspec": {
   "display_name": "porto-bank-transaction-cluster",
   "language": "python",
   "name": "python3"
  },
  "language_info": {
   "codemirror_mode": {
    "name": "ipython",
    "version": 3
   },
   "file_extension": ".py",
   "mimetype": "text/x-python",
   "name": "python",
   "nbconvert_exporter": "python",
   "pygments_lexer": "ipython3",
   "version": "3.11.13"
  }
 },
 "nbformat": 4,
 "nbformat_minor": 5
}
